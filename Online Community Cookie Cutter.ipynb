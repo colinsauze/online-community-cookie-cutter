{
 "cells": [
  {
   "cell_type": "code",
   "execution_count": 35,
   "metadata": {},
   "outputs": [
    {
     "data": {
      "application/vnd.jupyter.widget-view+json": {
       "model_id": "abb20f96395e4974ba7e2151f7d32bb7",
       "version_major": 2,
       "version_minor": 0
      },
      "text/plain": [
       "Output()"
      ]
     },
     "metadata": {},
     "output_type": "display_data"
    }
   ],
   "source": [
    "import ipywidgets as widgets\n",
    "\n",
    "progress_slider = widgets.IntSlider(disabled=True)\n",
    "\n",
    "project_type_tickbox.observe(handler)\n",
    "out1 = widgets.Output()\n",
    "\n",
    "\n",
    "def generic_handler(event):   \n",
    "\n",
    "    if event['type'] == \"change\" and event['name'] == 'value':\n",
    "        progress_slider.value = progress_slider.value + 1\n",
    "\n",
    "with out1:\n",
    "    print(\"Progress:\")\n",
    "    display(progress_slider)\n",
    "\n",
    "\n",
    "out1"
   ]
  },
  {
   "cell_type": "markdown",
   "metadata": {},
   "source": [
    "# Online Community Cookie Cutter\n",
    "As researchers, scientists, or techies we collaborate with others in a project as a team, task forces, interest groups, and working groups. Such team formation can also happen impromptu at events like conferences, or hackathons or over a discussion with others either in person or online. \n",
    "\n",
    "When a group of people gathers to work on a common task, they form a community. As an individual or a team who is leading a project, we should never assume that everyone in \"our community\" knows what is expected of them or how they should work with each other. Therefore we recommend that new community leaders start their project by defining and communicating their expectations from the start.\n",
    "\n",
    "This resource offers recommendations drawn from experiences of community and technical leaders, that prompts people to think critically about the work they’re doing. Here are the important \"things\" a nascent team should ask themselves when forming a collaboration.\n"
   ]
  },
  {
   "cell_type": "markdown",
   "metadata": {},
   "source": [
    "## Start by choosing a license"
   ]
  },
  {
   "cell_type": "code",
   "execution_count": 31,
   "metadata": {},
   "outputs": [
    {
     "data": {
      "application/vnd.jupyter.widget-view+json": {
       "model_id": "539f7fb3d909407889c7335b82449653",
       "version_major": 2,
       "version_minor": 0
      },
      "text/plain": [
       "Box(children=(Label(value='Will your project have code, documents or both?'), Dropdown(index=2, layout=Layout(…"
      ]
     },
     "metadata": {},
     "output_type": "display_data"
    },
    {
     "data": {
      "application/vnd.jupyter.widget-view+json": {
       "model_id": "65d401052dd240daad34b17c06d7f090",
       "version_major": 2,
       "version_minor": 0
      },
      "text/plain": [
       "Output()"
      ]
     },
     "metadata": {},
     "output_type": "display_data"
    }
   ],
   "source": [
    "project_type_dropdown = widgets.Dropdown(\n",
    "        options=['Code', 'Documents', 'Both'],\n",
    "                value='Both',\n",
    "                description='',\n",
    "                disabled=False,\n",
    "                layout={'width': 'max-content'}\n",
    "        )\n",
    "            \n",
    "box2 = widgets.Box(\n",
    "    [\n",
    "        widgets.Label(value='Will your project have code, documents or both?'),\n",
    "        project_type_dropdown\n",
    "    ]\n",
    ")            \n",
    "            \n",
    "project_type_tickbox.observe(generic_handler)\n",
    "\n",
    "display(box2)\n"
   ]
  },
  {
   "cell_type": "code",
   "execution_count": 33,
   "metadata": {},
   "outputs": [
    {
     "data": {
      "application/vnd.jupyter.widget-view+json": {
       "model_id": "7b21a6676c704c6a82ca55986d04dc81",
       "version_major": 2,
       "version_minor": 0
      },
      "text/plain": [
       "Box(children=(Label(value='Assess how open you would like your project to be'), Checkbox(value=False, layout=L…"
      ]
     },
     "metadata": {},
     "output_type": "display_data"
    }
   ],
   "source": [
    "openness_tickbox = widgets.Checkbox(\n",
    "                description='',\n",
    "                disabled=False,\n",
    "                layout={'width': 'max-content'}\n",
    "        )\n",
    "\n",
    "box3 = widgets.Box(\n",
    "    [\n",
    "        widgets.Label(value='Assess how open you would like your project to be'),\n",
    "        openness_tickbox\n",
    "    ]\n",
    ")            \n",
    "            \n",
    "openness_tickbox.observe(generic_handler)\n",
    "\n",
    "display(box3)\n"
   ]
  },
  {
   "cell_type": "code",
   "execution_count": 38,
   "metadata": {},
   "outputs": [
    {
     "data": {
      "application/vnd.jupyter.widget-view+json": {
       "model_id": "645396761d4a4890ad94dac701253b67",
       "version_major": 2,
       "version_minor": 0
      },
      "text/plain": [
       "Box(children=(Label(value='Visit this website to select one based on your needs: https://tinyurl.com/license-c…"
      ]
     },
     "metadata": {},
     "output_type": "display_data"
    },
    {
     "data": {
      "text/html": [
       "\n",
       "        <iframe\n",
       "            width=\"100%\"\n",
       "            height=\"500px\"\n",
       "            src=\"https://choosealicense.com/\"\n",
       "            frameborder=\"0\"\n",
       "            allowfullscreen\n",
       "        ></iframe>\n",
       "        "
      ],
      "text/plain": [
       "<IPython.lib.display.IFrame at 0x7f9bc43488d0>"
      ]
     },
     "execution_count": 38,
     "metadata": {},
     "output_type": "execute_result"
    }
   ],
   "source": [
    "openness_tickbox = widgets.Checkbox(\n",
    "                description='',\n",
    "                disabled=False,\n",
    "                layout={'width': 'max-content'}\n",
    "        )\n",
    "\n",
    "box4 = widgets.Box(\n",
    "    [\n",
    "        widgets.Label(value='Choose a suitable license, https://choosealicense.com will help you choose.'),\n",
    "        openness_tickbox\n",
    "    ]\n",
    ")            \n",
    "            \n",
    "openness_tickbox.observe(generic_handler)\n",
    "\n",
    "display(box4)\n",
    "\n",
    "from IPython.display import IFrame\n",
    "IFrame(src=\"https://choosealicense.com/\", width='100%', height='500px')"
   ]
  },
  {
   "cell_type": "markdown",
   "metadata": {},
   "source": [
    "## Vision and Goal of your project\n",
    "Define your vision, expectations and goals from the beginning for your members. When people join a project, they often don't know what is expected of them or how they should work with each other when working on your project. \n",
    "\n",
    "### State your vision for your project by answering to the following prompts"
   ]
  },
  {
   "cell_type": "code",
   "execution_count": 41,
   "metadata": {},
   "outputs": [
    {
     "data": {
      "application/vnd.jupyter.widget-view+json": {
       "model_id": "fbffda24146f4b80beae8c61594c47c4",
       "version_major": 2,
       "version_minor": 0
      },
      "text/plain": [
       "Box(children=(Label(value='Who you’re working with, or hope to work with'), Checkbox(value=False, layout=Layou…"
      ]
     },
     "metadata": {},
     "output_type": "display_data"
    },
    {
     "data": {
      "application/vnd.jupyter.widget-view+json": {
       "model_id": "bd12096638e54632873b4bf49ac438b5",
       "version_major": 2,
       "version_minor": 0
      },
      "text/plain": [
       "Box(children=(Label(value='What you’re doing'), Checkbox(value=False, layout=Layout(width='max-content'))))"
      ]
     },
     "metadata": {},
     "output_type": "display_data"
    },
    {
     "data": {
      "application/vnd.jupyter.widget-view+json": {
       "model_id": "0e1966fcdeb94a4b9921cd2d5296849a",
       "version_major": 2,
       "version_minor": 0
      },
      "text/plain": [
       "Box(children=(Label(value='Who is your audience'), Checkbox(value=False, layout=Layout(width='max-content'))))"
      ]
     },
     "metadata": {},
     "output_type": "display_data"
    },
    {
     "data": {
      "application/vnd.jupyter.widget-view+json": {
       "model_id": "7c63dba7505f4a24b4850f05c891704a",
       "version_major": 2,
       "version_minor": 0
      },
      "text/plain": [
       "Box(children=(Label(value='What is your motivation to do this'), Checkbox(value=False, layout=Layout(width='ma…"
      ]
     },
     "metadata": {},
     "output_type": "display_data"
    },
    {
     "data": {
      "application/vnd.jupyter.widget-view+json": {
       "model_id": "fccdaa84943449f6b84f344421a66e94",
       "version_major": 2,
       "version_minor": 0
      },
      "text/plain": [
       "Box(children=(Label(value='What impact do you aim to achieve'), Checkbox(value=False, layout=Layout(width='max…"
      ]
     },
     "metadata": {},
     "output_type": "display_data"
    }
   ],
   "source": [
    "workwith_tickbox = widgets.Checkbox(\n",
    "                description='',\n",
    "                disabled=False,\n",
    "                layout={'width': 'max-content'}\n",
    "        )\n",
    "\n",
    "doingwhat_tickbox = widgets.Checkbox(\n",
    "                description='',\n",
    "                disabled=False,\n",
    "                layout={'width': 'max-content'}\n",
    "        )\n",
    "\n",
    "audience_tickbox = widgets.Checkbox(\n",
    "                description='',\n",
    "                disabled=False,\n",
    "                layout={'width': 'max-content'}\n",
    "        )\n",
    "\n",
    "motivation_tickbox = widgets.Checkbox(\n",
    "                description='',\n",
    "                disabled=False,\n",
    "                layout={'width': 'max-content'}\n",
    "        )\n",
    "\n",
    "impact_tickbox = widgets.Checkbox(\n",
    "                description='',\n",
    "                disabled=False,\n",
    "                layout={'width': 'max-content'}\n",
    "        )\n",
    "\n",
    "box5 = widgets.Box(\n",
    "    [\n",
    "        widgets.Label(value='Who you’re working with, or hope to work with'),\n",
    "        workwith_tickbox,\n",
    "    ])\n",
    "\n",
    "box6 = widgets.Box(\n",
    "    [   widgets.Label(value='What you’re doing'),\n",
    "        doingwhat_tickbox,\n",
    "    ])\n",
    "\n",
    "box7 = widgets.Box(\n",
    "    [   widgets.Label(value='Who is your audience'),\n",
    "        audience_tickbox,\n",
    "    ])\n",
    "\n",
    "box8 = widgets.Box(\n",
    "    [   widgets.Label(value='What is your motivation to do this'),\n",
    "        motivation_tickbox,\n",
    "    ])\n",
    "\n",
    "\n",
    "box9 = widgets.Box(\n",
    "    [   widgets.Label(value='What impact do you aim to achieve'),\n",
    "        impact_tickbox,\n",
    "    ])            \n",
    "            \n",
    "workwith_tickbox.observe(generic_handler)\n",
    "doingwhat_tickbox.observe(generic_handler)\n",
    "audience_tickbox.observe(generic_handler)\n",
    "motivation_tickbox.observe(generic_handler)\n",
    "impact_tickbox.observe(generic_handler)\n",
    "\n",
    "display(box5)\n",
    "display(box6)\n",
    "display(box7)\n",
    "display(box8)\n",
    "display(box9)"
   ]
  },
  {
   "cell_type": "code",
   "execution_count": null,
   "metadata": {},
   "outputs": [],
   "source": []
  }
 ],
 "metadata": {
  "kernelspec": {
   "display_name": "Python 3",
   "language": "python",
   "name": "python3"
  },
  "language_info": {
   "codemirror_mode": {
    "name": "ipython",
    "version": 3
   },
   "file_extension": ".py",
   "mimetype": "text/x-python",
   "name": "python",
   "nbconvert_exporter": "python",
   "pygments_lexer": "ipython3",
   "version": "3.7.3"
  }
 },
 "nbformat": 4,
 "nbformat_minor": 2
}
